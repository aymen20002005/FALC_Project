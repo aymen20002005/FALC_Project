{
  "cells": [
    {
      "attachments": {},
      "cell_type": "markdown",
      "metadata": {
        "id": "j5M6i0YRApZH"
      },
      "source": [
        "On commence d'abord par traduire les phrases du francais en angalis"
      ]
    },
    {
      "cell_type": "code",
      "execution_count": null,
      "metadata": {
        "id": "lDyQJtOwbPhM"
      },
      "outputs": [],
      "source": [
        "from mtranslate import translate\n",
        "import time\n",
        "import concurrent.futures\n",
        "\n",
        "number_threads = 4\n",
        "progress_file_path = '/content/drive/MyDrive/Colab Notebooks/progress.txt'\n",
        "\n",
        "def load_progress():\n",
        "    try:\n",
        "        with open(progress_file_path, 'r') as progress_file:\n",
        "            return int(progress_file.read().strip())\n",
        "    except FileNotFoundError:\n",
        "        return 0\n",
        "\n",
        "def save_progress(line_number):\n",
        "    with open(progress_file_path, 'w') as progress_file:\n",
        "        progress_file.write(str(line_number))\n",
        "\n",
        "current_progress = load_progress()\n",
        "\n",
        "with open('/content/drive/MyDrive/Colab Notebooks/merged-output.txt', 'r') as f:\n",
        "    with open('/content/drive/MyDrive/Colab Notebooks/1.txt', 'a') as out:\n",
        "        while True:\n",
        "            with concurrent.futures.ThreadPoolExecutor(max_workers=number_threads) as executor:\n",
        "                future_to_line = {}\n",
        "                line_number = 0\n",
        "\n",
        "                for line in f:\n",
        "                    line_number += 1\n",
        "\n",
        "                    if line_number <= current_progress:\n",
        "                        continue\n",
        "\n",
        "                    future = executor.submit(translate, line.strip(), \"english\")\n",
        "                    future_to_line[future] = (line_number, line)\n",
        "\n",
        "                for future in concurrent.futures.as_completed(future_to_line):\n",
        "                    line_number, line = future_to_line[future]\n",
        "                    try:\n",
        "                        translated_line = future.result()\n",
        "                        out.write(translated_line + '\\n')\n",
        "                        current_progress = line_number\n",
        "                        save_progress(current_progress)\n",
        "                    except Exception as e:\n",
        "                        print(f\"Encountered an exception: {e}. Saving progress and stopping script...\")\n",
        "                        save_progress(current_progress)\n",
        "                        exit(1)\n",
        "\n",
        "                if line_number == current_progress:\n",
        "                    break\n"
      ]
    },
    {
      "cell_type": "markdown",
      "metadata": {
        "id": "Py_byGOzAyy1"
      },
      "source": [
        "Désormais, il est possible de vérifier les phrases et de ne conserver que celles qui sont grammaticalement correctes."
      ]
    },
    {
      "cell_type": "code",
      "execution_count": null,
      "metadata": {
        "id": "SGAIQpadcyRo"
      },
      "outputs": [],
      "source": [
        "import spacy\n",
        "\n",
        "nlp = spacy.load('en_core_web_sm')\n",
        "\n",
        "def check_grammar(sentence):\n",
        "    doc = nlp(sentence)\n",
        "\n",
        "    \n",
        "    if len(doc) < 2:\n",
        "        return \"Incomplete sentence\"\n",
        "    for sent in doc.sents:\n",
        "        if len(sent) < 2:\n",
        "            return \"Fragmented sentence\"\n",
        "    \n",
        "    for token in doc:\n",
        "        if token.dep_ == 'nsubj' and not token.is_punct:\n",
        "\n",
        "            break\n",
        "    else:\n",
        "        return \"Missing subject\"\n",
        "    \n",
        "    for token in doc:\n",
        "        if token.pos_ == 'VERB' and not token.is_punct:\n",
        "            break\n",
        "    else:\n",
        "        return \"Missing verb\"\n",
        "    \n",
        "    for token in doc:\n",
        "        if token.pos_ == 'VERB' and token.dep_ == 'aux' and not token.is_punct:\n",
        "            return \"Auxiliary verb should not be used\"\n",
        "        if token.tag_ in ['VBD', 'VBN'] and not token.is_punct:\n",
        "            return \"Use present tense instead of past participle or past tense\"\n",
        "        if token.dep_ == 'nsubjpass' and not token.is_punct:\n",
        "            return \"Passive voice should not be used\"\n",
        "        if token.tag_ == 'NEG' and not token.is_punct:\n",
        "            return \"Negative sentence\"\n",
        "    \n",
        "    return None\n",
        "\n",
        "with open('/content/drive/MyDrive/Colab Notebooks/1.txt', 'r') as input_file, open('/content/drive/MyDrive/Colab Notebooks/2.txt', 'w') as output_file:\n",
        "    for line in input_file:\n",
        "        doc = nlp(line)\n",
        "        for sent in doc.sents:\n",
        "            result = check_grammar(sent.text)\n",
        "            if not result:\n",
        "                output_file.write(sent.text + '\\n')\n"
      ]
    },
    {
      "cell_type": "markdown",
      "metadata": {
        "id": "vYZNoWN-BNAP"
      },
      "source": [
        "Une fois cette étape terminée, les phrases sont traduites de nouveau en français.\n"
      ]
    },
    {
      "cell_type": "code",
      "execution_count": null,
      "metadata": {
        "id": "7q4PYk-0e-BU"
      },
      "outputs": [],
      "source": [
        "from mtranslate import translate\n",
        "import time\n",
        "import concurrent.futures\n",
        "\n",
        "number_threads = 4\n",
        "progress_file_path = '/content/drive/MyDrive/Colab Notebooks/progress.txt'\n",
        "\n",
        "def load_progress():\n",
        "    try:\n",
        "        with open(progress_file_path, 'r') as progress_file:\n",
        "            return int(progress_file.read().strip())\n",
        "    except FileNotFoundError:\n",
        "        return 0\n",
        "\n",
        "def save_progress(line_number):\n",
        "    with open(progress_file_path, 'w') as progress_file:\n",
        "        progress_file.write(str(line_number))\n",
        "\n",
        "current_progress = load_progress()\n",
        "\n",
        "with open('/content/drive/MyDrive/Colab Notebooks/2.txt', 'r') as f:\n",
        "    with open('/content/drive/MyDrive/Colab Notebooks/3.txt', 'a') as out:\n",
        "        while True:\n",
        "            with concurrent.futures.ThreadPoolExecutor(max_workers=number_threads) as executor:\n",
        "                future_to_line = {}\n",
        "                line_number = 0\n",
        "\n",
        "                for line in f:\n",
        "                    line_number += 1\n",
        "\n",
        "                    if line_number <= current_progress:\n",
        "                        continue\n",
        "\n",
        "                    future = executor.submit(translate, line.strip(), \"fr\",\"en\")\n",
        "                    future_to_line[future] = (line_number, line)\n",
        "\n",
        "                for future in concurrent.futures.as_completed(future_to_line):\n",
        "                    line_number, line = future_to_line[future]\n",
        "                    try:\n",
        "                        translated_line = future.result()\n",
        "                        out.write(translated_line + '\\n')\n",
        "                        current_progress = line_number\n",
        "                        save_progress(current_progress)\n",
        "                    except Exception as e:\n",
        "                        print(f\"Encountered an exception: {e}. Saving progress and stopping script...\")\n",
        "                        save_progress(current_progress)\n",
        "                        exit(1)\n",
        "\n",
        "                if line_number == current_progress:\n",
        "                    break\n"
      ]
    },
    {
      "cell_type": "markdown",
      "metadata": {
        "id": "POSkcCIABiDY"
      },
      "source": [
        "Enfin, un fichier Excel est créé avec les phrases simples pour une meilleure visualisation. Les phrases complexes seront ajoutées dans les mêmes lignes ultérieurement."
      ]
    },
    {
      "cell_type": "code",
      "execution_count": null,
      "metadata": {
        "id": "PGlgy4npYbT4"
      },
      "outputs": [],
      "source": [
        "import openpyxl\n",
        "\n",
        "with open('/content/drive/MyDrive/Colab Notebooks/3.txt', 'r') as f:\n",
        "    sentences = [line.strip() for line in f if line.strip()]\n",
        "\n",
        "workbook = openpyxl.Workbook()\n",
        "worksheet = workbook.active\n",
        "worksheet.title = 'Sheet1'\n",
        "\n",
        "worksheet.cell(row=1, column=1).value = 'A'\n",
        "\n",
        "for index, sentence in enumerate(sentences, start=2):\n",
        "    worksheet.cell(row=index, column=1).value = sentence\n",
        "\n",
        "workbook.save('/content/drive/MyDrive/Colab Notebooks/simple_french.xlsx')\n"
      ]
    }
  ],
  "metadata": {
    "colab": {
      "provenance": []
    },
    "kernelspec": {
      "display_name": "Python 3",
      "name": "python3"
    },
    "language_info": {
      "name": "python"
    }
  },
  "nbformat": 4,
  "nbformat_minor": 0
}
