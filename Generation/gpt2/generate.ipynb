{
  "cells": [
    {
      "cell_type": "markdown",
      "metadata": {
        "id": "wdKyp-j_kMB-"
      },
      "source": [
        "paraphrasing the input first "
      ]
    },
    {
      "cell_type": "code",
      "execution_count": null,
      "metadata": {
        "id": "QvVK9UvKkOog"
      },
      "outputs": [],
      "source": [
        "from parrot import Parrot\n",
        "import torch\n",
        "\n",
        "phrases=[]\n",
        "para=[]\n",
        "\n",
        "with open(\"/content/drive/MyDrive/Colab Notebooks/output3.txt\", \"r\") as f:\n",
        "    for line in f :\n",
        "      if line.strip()!=\"\":\n",
        "        phrases.append(line.strip())\n",
        "\n",
        "parrot = Parrot(model_tag=\"prithivida/parrot_paraphraser_on_T5\")\n",
        "for phrase in phrases:\n",
        "  para_phrases = parrot.augment(input_phrase=phrase,\n",
        "                               use_gpu=True,\n",
        "                               do_diverse=True, \n",
        "                               max_length=100, \n",
        "                               adequacy_threshold = 0.6, \n",
        "                              fluency_threshold = 0.8)\n",
        "  para.append(para_phrases)\n",
        "\n",
        "lines=[]\n",
        "with open(\"/content/drive/MyDrive/Colab Notebooks/output4.txt\", \"w\") as file:\n",
        "  for para_phrases in para:\n",
        "    for para_phrase in para_phrases:\n",
        "      new_sentence=''\n",
        "      for char in para_phrase[0]:\n",
        "        new_sentence += char\n",
        "        if char ==\"\\n\":\n",
        "          break\n",
        "      lines.append(new_sentence)\n",
        "      break\n",
        "  file.writelines(\"\\n\".join(lines))"
      ]
    },
    {
      "cell_type": "markdown",
      "metadata": {
        "id": "X17mEFvVkSXQ"
      },
      "source": [
        "Text generation"
      ]
    },
    {
      "cell_type": "code",
      "execution_count": null,
      "metadata": {
        "colab": {
          "base_uri": "https://localhost:8080/"
        },
        "id": "Vnc2ZjCxmbsP",
        "outputId": "78196b8d-52dc-4024-adfa-47cf9c924b9d"
      },
      "outputs": [
        {
          "name": "stderr",
          "output_type": "stream",
          "text": [
            "All model checkpoint layers were used when initializing TFGPT2LMHeadModel.\n",
            "\n",
            "All the layers of TFGPT2LMHeadModel were initialized from the model checkpoint at gpt2.\n",
            "If your task is similar to the task the model of the checkpoint was trained on, you can already use TFGPT2LMHeadModel for predictions without further training.\n"
          ]
        },
        {
          "name": "stdout",
          "output_type": "stream",
          "text": [
            "[('This puts off some viewers.', \"this can demotivate some people, but not all. A lot of people don't believe that God actually wants you to come here. He's saying that if he were to make you come out of his mouth, then you would have your\"), ('A long adventure begins.', 'there begins a long journey toward their very end, as the book continues.\\n'), ('Then begins a period of prosperity.', \"a period of prosperity follows its transition into recession, with recession then taking on the character of a boom and a bust. At some point, you have to adjust to this. In today's world where growth is constant, you must adjust.\\n\"), ('The description of the public part stops here.', 'the description of the public part is stopped.\\n'), ('It is therefore urgent to renew their outlets.', \"in this context it is urgent to renew their outlets of information to prevent the proliferation of 'fake news' and false stories.\\n\"), ('The Treasury will remain independent of the Committee.', 'the department of treasury will remain independent to continue this work.\\n'), ('The clergy must submit or resign.', 'the clergy must either resign or submit to resignation. This is the case for the Church of England today. It is just what the Church has been doing. We are being sent to hell at a time when it should be at peace,\" said a Vatican'), ('We then lose track of it.', 'we then lose track of their time when the clock runs out, or the clock runs down, or they lose their interest in doing things that they already love. The most interesting part of this is how we see ourselves in our lives at each different moment'), ('Birds and small mammals eat it.', \"it's eaten by birds and small mammals. But it is a fairly easy to use snack.\\n\"), ('Both attempts prove unsuccessful.', 'both attempts fail to produce results at all, and the system has no way of verifying that all data points are valid). As you see in the examples, all of these scenarios are described in detail later.\\n'), ('Circumstances favor him.', \"circumstances favour him, so there was always a strong element of surprise. In the end, after he left the court, the court became more serious and he became a victim to the'shattering of manners'.\\n\"), ('It contains eight species.', 'there are eight species of spiders in the genus Cariocynidae), and three species in the genus Pannus; there is the genus Gelliptosaur and the genus Amantris. All of the spiders in this genus are distinguished'), (\"That's what I can't say.\", \"i can't say that you wouldn't have to consider yourself a true advocate for the cause of free speech when you're an ally to them. You are the one that's been saying the very worst things that can be said about you while you're\"), ('We are now playing games.', 'we play the music we want to hear,\" he told us.\\n'), ('He devotes himself to it almost exclusively.', 'he is almost exclusively dedicated to it. He is one of the only players who will ever work more than one job.\\n'), ('The table below lists them.', 'they are listed in the table below, but as in those cases, these individuals are exempt from receiving state assistance under the Child Nutrition Assistance Program. However, they are required to file a full court affidavit with the State Division of Social Services stating that they'), ('The stands date from the Restoration period.', 'the stands date from the period of the restoration to the last day of the war. The German and Italian armies at that time met in a duel; in fact, when the Germans seized the two sides of the Danube, they fell to their knees'), ('It covers nearly two hectares.', 'it covers about two hectares. The whole area covers nearly 10 miles.\\n'), ('We install a fountain and a pond.', 'install a fountain and a waterhole to run some water on.\\n'), ('He thus becomes the Chairman of the Board.', \"he becomes chairman of the board. As CEO and CEO, he gets a very unique position. He has been in charge of a company for over 10 years and has taken an unusual stand. The board has elected him to the company's new chairman position\"), ('Their career takes off.', 'their career is on the rise, and you probably won\\'t see a lot of these guys at the NFL Scouting Combine. It\\'s not easy for the NFL,\" says cornerback Aqib Talib, who said he\\'ll watch from the sidelines. \"'), ('It has a station of the Norwegian Meteorological Institute.', 'it consists of a station of the norwegian meteorological institute and its two offices. The Meteorological Institute is the main area of its administrative center and is located at a place called the Storjestelen in Oslo. It is located on'), ('Basketball takes center stage.', \"basketball is at the center of the action and that he may be selected a mid- or senior draft pick this year. He also has to convince the Lakers to pick up his third career pro offer and that he'll give his all to make the jump\"), ('Nurserymen prefer grafting instead.', 'nurserymen instead prefer the grafting technique.\\n'), ('Everything will be good to finally shine.', 'all is good to shine again and you will have a look of something different.\"\\n'), ('I do not believe that.', 'i don\\'t believe in that statement,\" Trump said in a statement on Twitter. \"You can only be a leader if the US military is not involved in any of those matters.\"\\n'), ('They divorce in .', 'they divorce in order to maintain the marriage license,\" says Pritchard. \"People know that they will pay a hefty penalty if they divorce, but there\\'s no way to guarantee it.\\n'), (\"He doesn't play either.\", 'neither does he play the guitar with his friend or play bass with his girlfriend or take part in the local music scene. Instead, he runs a band (of course) at a nearby church. As his role grows he has also become a good'), ('It has eight vertices and twelve edges.', \"it's got eight vertices and 12 edges that I like. I just want to see what the whole world is going to look like. I want to make sure that there isn't a gap between the vertices.\\n\"), ('He creates object sculptures.', 'he creates sculptures of objects and materials from scratch. He then creates pieces of wood from plastic blocks or metal tubes that are carved by him, to create what appears to be a living sculpture.\\n'), ('Both clubs still exist.', \"both clubs are still around today). What I've really wanted to talk about was how players are looking to earn their place in the Champions League, with a focus on finding their goalscoring spot. I mentioned before about the new system in which goals\"), ('He then becomes a safe bet in the team.', 'he becomes the safe bet for the team to continue. He has four goals and four assists in 21 regular season games in the AHL this season.\\n'), ('He lives by giving private lessons.', 'a private tutor lives in England, and also in the UK. She says she was told her own family had died at their own hand, and she and her wife had told her they would come to visit her there in London on 15 June to learn'), ('Only the old passenger building remains.', \"only the old passenger building is still standing, which means you can't go into the building without a ticket\\n\"), ('Its plumage makes it almost invisible on the ground.', \"its plumage makes it almost invisible to the ground at night. However, when you reach the end of your level, your eyes can now see around your entire body. So, to make a great visual representation of your body and mind, you'll\"), ('It has approximately inhabitants.', 'It has approximately inhabitants. And this is where our new powers are.\"\\n'), ('We add parties to the calendar.', \"we add the parties to the calendar, to bring out other people's information.\\n\"), ('It depicts eagles in three beaded medallions.', 'it depicts three beaded medallions of eagles. The eagle has three wings (up to 12). It is the largest bird found in the museum; the six-day-old was first found two hundred yards from the main entrance to K'), ('He plays as a defender.', 'he plays as a defensive player. He needs to get to the line quicker and get as many points as possible in order to win the game. I think that he needs to be more efficient in the offensive game and the defense can become a more important'), ('Symbols generally describe sets of numbers.', 'symbols describe in general sets of numbers from one point to another, as such:\\n'), ('He keeps this portfolio until December.', 'he has this portfolio until december, but will probably be back by then.\\n'), ('The arrows are missing.', \"there are no arrows left behind on the road. The car that comes through here has been shot dead or damaged. It looks like someone stole it or some other thing, but that's it. The guy you're reading that's shot dead is also\"), ('He then recovers his civil rights.', 'so he recovers his rights.\\n'), ('This explains his faults.', 'this is what explains his mistakes).\\n'), ('The south facade has a side door.', 'the south facade has a side door to the entrance to the south side, and an entrance to the north side with two entrances, and two side doors to the northside with two entrance entrances.\\n'), ('They get compensation but without preparation.', \"they get compensation but they don't prepare. They take time to prepare for something else. It's a waste. So they're taking that and going out there in a different way and they've got nothing to be proud of.\"), ('They will have five children.', 'they\\'ll have five children in total.\"\\n'), ('The recipe varies by region.', 'depending on the region the recipe is different from the recipe in the next step), set the temp, change the ingredients, and put everything in one tray (like one or two pots, or more than that). Make sure to check the container for a'), ('Natal suffers the same fate.', 'natal is suffering the same fate in most cases. The risk of relapse and the risk of permanent disability has been increasing steadily since the first few decades of the present century.'), ('He takes part in the youth selections.', 'he takes part in the selections for young people in the U.S. who want to become college freshmen.\\n'), ('He can also swim.', 'he can swim too.\\n'), ('She becomes a widow before the age of twenty.', 'she becomes a widow before age twenty, after her husband died. He becomes a widow after age forty.\\n'), ('It benefits from considerable donations and favors.', 'there are considerable donations and favors being made by such individuals to promote the causes of this country, which are largely devoted to the needs and advancement of women.\"\\n'), ('When they arrive they cry night and day.', 'and when they arrive night and day they cry out on top of themselves.\\n'), ('The secretary general plays an important role.', 'the secretary-general plays an important role in this regard. And he does that, from the first we talk about, as an adviser, as an ambassador, he helps to carry on the work of the foreign minister.\"\\n'), ('He plays as an attacking midfielder.', 'he plays as a midfielder in the midfield, but has also shown potential in a reserve role, alongside midfielder Will Hughes and full-backs.\\n'), ('Each trip takes about four months.', 'each trip takes about four months to complete. After the initial stage, the second stage will take around six months. During this stage, it will take about 30 to 40 hours to complete the entire journey, taking about 8,000 kilometers (5,'), ('He will eventually become director of the institution in .', 'in the future he will be a director of the institution in which the office will be located.\"\\n'), ('They then blend in with the other Greeks.', 'they blend with the other greeks; the other greeks, if we do not take notice of them, will be caught and punished by them on account of our coming into the land. So the Greeks were called Gresham')]\n"
          ]
        }
      ],
      "source": [
        "import pandas as pd\n",
        "import tensorflow as tf\n",
        "from transformers import TFGPT2LMHeadModel, GPT2Tokenizer\n",
        "\n",
        "with open(\"/content/drive/MyDrive/Colab Notebooks/output4.txt\", \"r\") as f:\n",
        "    input_sentences = [line.strip() for line in f]\n",
        "\n",
        "tokenizer = GPT2Tokenizer.from_pretrained(\"gpt2\")\n",
        "model = TFGPT2LMHeadModel.from_pretrained(\"gpt2\", pad_token_id=tokenizer.eos_token_id)\n",
        "\n",
        "\n",
        "output_sentences = []\n",
        "j=0\n",
        "for j in range(0,len(input_sentences)):\n",
        "    if input_sentences[j].strip() == \"\":\n",
        "        continue  # Skip empty input sentences\n",
        "\n",
        "    input_ids = tokenizer.encode(input_sentences[j], return_tensors=\"tf\")\n",
        "    # Generate new sentences\n",
        "    sample_outputs = model.generate(\n",
        "    input_ids,\n",
        "    do_sample=True, \n",
        "    max_length=50, \n",
        "    min_length=25,\n",
        "    top_k=50, \n",
        "    top_p=0.95, \n",
        "    )\n",
        "\n",
        "    for i, sample_output in enumerate(sample_outputs):\n",
        "        generated_sentence = tokenizer.decode(sample_output, skip_special_tokens=True)\n",
        "        new_sentence = \"\"\n",
        "        for char in generated_sentence:\n",
        "            new_sentence += char\n",
        "            if char == \"\\n\":\n",
        "              break         \n",
        "        output_sentences.append((phrases[j], new_sentence))\n",
        "\n",
        "df = pd.DataFrame(output_sentences, columns=['original_sentence', 'generated_sentence'])\n",
        "\n",
        "df.to_excel(\"/content/drive/MyDrive/Colab Notebooks/output4.xlsx\", index=False)\n",
        "print(output_sentences)"
      ]
    },
    {
      "cell_type": "markdown",
      "metadata": {
        "id": "wTNNLqn6kWv9"
      },
      "source": [
        "transaltion back to french"
      ]
    },
    {
      "cell_type": "code",
      "execution_count": null,
      "metadata": {
        "id": "hyZ0eRMMNNz6"
      },
      "outputs": [],
      "source": [
        "import pandas as pd\n",
        "from mtranslate import translate\n",
        "df = pd.read_excel('/content/drive/MyDrive/Colab Notebooks/output4.xlsx')\n",
        "\n",
        "df['original_sentence_fr'] = df['original_sentence'].apply(lambda x: translate(x,\"fr\",\"en\"))\n",
        "df['generated_sentence_fr'] = df['generated_sentence'].apply(lambda x: translate(x,\"fr\",\"en\"))\n",
        "\n",
        "df.to_excel('/content/drive/MyDrive/Colab Notebooks/output4_translated.xlsx', index=False)\n"
      ]
    }
  ],
  "metadata": {
    "accelerator": "GPU",
    "colab": {
      "provenance": []
    },
    "gpuClass": "standard",
    "kernelspec": {
      "display_name": "Python 3",
      "name": "python3"
    },
    "language_info": {
      "name": "python"
    }
  },
  "nbformat": 4,
  "nbformat_minor": 0
}
